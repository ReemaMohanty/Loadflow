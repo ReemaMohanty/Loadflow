{
 "cells": [
  {
   "cell_type": "code",
   "execution_count": null,
   "id": "084add23-ae67-4e91-a987-cfbd36ab24f3",
   "metadata": {},
   "outputs": [],
   "source": [
    "#Here’s an example of how to apply a load profile to Load on Bus 1 and iterate over a few time steps:\n"
   ]
  },
  {
   "cell_type": "code",
   "execution_count": 12,
   "id": "49d58185-e4f6-4dc7-99dc-6a2a48327b7d",
   "metadata": {},
   "outputs": [],
   "source": [
    "import pandas as pd\n",
    "import pandapower as pp\n",
    "import numpy as np\n",
    "\n",
    "# Initialize network\n",
    "net = pp.create_empty_network()"
   ]
  },
  {
   "cell_type": "code",
   "execution_count": 13,
   "id": "1b24e1a9-5127-444d-a6a0-b929501924ad",
   "metadata": {},
   "outputs": [],
   "source": [
    "# Create high voltage buses (11 kV)\n",
    "bus1 = pp.create_bus(net, vn_kv=11, name=\"Bus 1\")\n",
    "bus2 = pp.create_bus(net, vn_kv=11, name=\"Bus 2\")"
   ]
  },
  {
   "cell_type": "code",
   "execution_count": 14,
   "id": "215ede45-135b-4a36-b2d5-1d01c8e8c71e",
   "metadata": {},
   "outputs": [],
   "source": [
    "# Create medium voltage buses (0.4 kV)\n",
    "bus3 = pp.create_bus(net, vn_kv=0.4, name=\"Bus 3\")\n",
    "bus4 = pp.create_bus(net, vn_kv=0.4, name=\"Bus 4\")"
   ]
  },
  {
   "cell_type": "code",
   "execution_count": 15,
   "id": "ef20bc10-9b2a-4ac5-8598-9a6139dcb9d7",
   "metadata": {},
   "outputs": [],
   "source": [
    "# Low voltage buses connected to loads\n",
    "bus5 = pp.create_bus(net, vn_kv=0.4, name=\"Bus 5\")\n",
    "bus6 = pp.create_bus(net, vn_kv=0.4, name=\"Bus 6\")"
   ]
  },
  {
   "cell_type": "code",
   "execution_count": 16,
   "id": "c5a903bf-66b5-4b9c-9c2f-932937bf6a95",
   "metadata": {},
   "outputs": [
    {
     "data": {
      "text/plain": [
       "1"
      ]
     },
     "execution_count": 16,
     "metadata": {},
     "output_type": "execute_result"
    }
   ],
   "source": [
    "# External grid connections\n",
    "pp.create_ext_grid(net, bus=bus1, vm_pu=1.0, name=\"Grid Connection 1\")\n",
    "pp.create_ext_grid(net, bus=bus2, vm_pu=1.0, name=\"Grid Connection 2\")"
   ]
  },
  {
   "cell_type": "code",
   "execution_count": 17,
   "id": "25e7a0f0-e7af-4b8b-99ac-2d2a0d6b81b9",
   "metadata": {},
   "outputs": [
    {
     "data": {
      "text/plain": [
       "1"
      ]
     },
     "execution_count": 17,
     "metadata": {},
     "output_type": "execute_result"
    }
   ],
   "source": [
    "# Transformers with 11 kV to 0.4 kV ratio\n",
    "pp.create_transformer_from_parameters(\n",
    "    net, hv_bus=bus1, lv_bus=bus3, sn_mva=1, vn_hv_kv=11, vn_lv_kv=0.4, \n",
    "    vk_percent=6, vkr_percent=0.5, pfe_kw=0, i0_percent=0.1, name=\"Transformer 1\"\n",
    ")\n",
    "pp.create_transformer_from_parameters(\n",
    "    net, hv_bus=bus2, lv_bus=bus4, sn_mva=1, vn_hv_kv=11, vn_lv_kv=0.4, \n",
    "    vk_percent=6, vkr_percent=0.5, pfe_kw=0, i0_percent=0.1, name=\"Transformer 2\"\n",
    ")"
   ]
  },
  {
   "cell_type": "code",
   "execution_count": 18,
   "id": "da987669-50eb-4498-bdbe-fd3f87dcddb6",
   "metadata": {},
   "outputs": [
    {
     "data": {
      "text/plain": [
       "1"
      ]
     },
     "execution_count": 18,
     "metadata": {},
     "output_type": "execute_result"
    }
   ],
   "source": [
    "# High-voltage loads (connected to Bus 1 and Bus 2)\n",
    "pp.create_load(net, bus=bus1, p_mw=0.8, q_mvar=0.4, name=\"HV Load 1\")\n",
    "pp.create_load(net, bus=bus2, p_mw=0.9, q_mvar=0.45, name=\"HV Load 2\")"
   ]
  },
  {
   "cell_type": "code",
   "execution_count": 19,
   "id": "54c3b576-0ac0-40b0-b496-fda0585bc09b",
   "metadata": {},
   "outputs": [
    {
     "data": {
      "text/plain": [
       "3"
      ]
     },
     "execution_count": 19,
     "metadata": {},
     "output_type": "execute_result"
    }
   ],
   "source": [
    "# Low-voltage loads (connected to Bus 5 and Bus 6)\n",
    "pp.create_load(net, bus=bus5, p_mw=0.4, q_mvar=0.2, name=\"LV Load 3\")\n",
    "pp.create_load(net, bus=bus6, p_mw=0.3, q_mvar=0.15, name=\"LV Load 4\")"
   ]
  },
  {
   "cell_type": "code",
   "execution_count": 20,
   "id": "7b138536-d7d3-4ea0-a2b8-041b0a0a1904",
   "metadata": {},
   "outputs": [
    {
     "data": {
      "text/plain": [
       "1"
      ]
     },
     "execution_count": 20,
     "metadata": {},
     "output_type": "execute_result"
    }
   ],
   "source": [
    "# Lines between transformers and load buses\n",
    "pp.create_line_from_parameters(\n",
    "    net, from_bus=bus3, to_bus=bus5, length_km=0.1, r_ohm_per_km=0.1, \n",
    "    x_ohm_per_km=0.2, c_nf_per_km=0, max_i_ka=0.4, name=\"Line 1\"\n",
    ")\n",
    "pp.create_line_from_parameters(\n",
    "    net, from_bus=bus4, to_bus=bus6, length_km=0.1, r_ohm_per_km=0.1, \n",
    "    x_ohm_per_km=0.2, c_nf_per_km=0, max_i_ka=0.4, name=\"Line 2\"\n",
    ")"
   ]
  },
  {
   "cell_type": "code",
   "execution_count": 22,
   "id": "33d46635-c9ff-4286-b74a-02d1005a152d",
   "metadata": {},
   "outputs": [
    {
     "name": "stdout",
     "output_type": "stream",
     "text": [
      "Time step 1:\n",
      "Load on Bus 1 (MW): 0.5\n",
      "Bus voltages (pu):\n",
      " 0    1.000000\n",
      "1    1.000000\n",
      "2    0.983657\n",
      "3    0.988233\n",
      "4    0.929008\n",
      "5    0.948241\n",
      "Name: vm_pu, dtype: float64\n",
      "Line loading (%):\n",
      " 0    173.706114\n",
      "1    127.637119\n",
      "Name: loading_percent, dtype: float64\n",
      "\n",
      "----------------------------------------\n",
      "\n",
      "Time step 2:\n",
      "Load on Bus 1 (MW): 0.6111111111111112\n",
      "Bus voltages (pu):\n",
      " 0    1.000000\n",
      "1    1.000000\n",
      "2    0.983657\n",
      "3    0.988233\n",
      "4    0.929008\n",
      "5    0.948241\n",
      "Name: vm_pu, dtype: float64\n",
      "Line loading (%):\n",
      " 0    173.706114\n",
      "1    127.637119\n",
      "Name: loading_percent, dtype: float64\n",
      "\n",
      "----------------------------------------\n",
      "\n",
      "Time step 3:\n",
      "Load on Bus 1 (MW): 0.7222222222222222\n",
      "Bus voltages (pu):\n",
      " 0    1.000000\n",
      "1    1.000000\n",
      "2    0.983657\n",
      "3    0.988233\n",
      "4    0.929008\n",
      "5    0.948241\n",
      "Name: vm_pu, dtype: float64\n",
      "Line loading (%):\n",
      " 0    173.706114\n",
      "1    127.637119\n",
      "Name: loading_percent, dtype: float64\n",
      "\n",
      "----------------------------------------\n",
      "\n",
      "Time step 4:\n",
      "Load on Bus 1 (MW): 0.8333333333333333\n",
      "Bus voltages (pu):\n",
      " 0    1.000000\n",
      "1    1.000000\n",
      "2    0.983657\n",
      "3    0.988233\n",
      "4    0.929008\n",
      "5    0.948241\n",
      "Name: vm_pu, dtype: float64\n",
      "Line loading (%):\n",
      " 0    173.706114\n",
      "1    127.637119\n",
      "Name: loading_percent, dtype: float64\n",
      "\n",
      "----------------------------------------\n",
      "\n",
      "Time step 5:\n",
      "Load on Bus 1 (MW): 0.9444444444444444\n",
      "Bus voltages (pu):\n",
      " 0    1.000000\n",
      "1    1.000000\n",
      "2    0.983657\n",
      "3    0.988233\n",
      "4    0.929008\n",
      "5    0.948241\n",
      "Name: vm_pu, dtype: float64\n",
      "Line loading (%):\n",
      " 0    173.706114\n",
      "1    127.637119\n",
      "Name: loading_percent, dtype: float64\n",
      "\n",
      "----------------------------------------\n",
      "\n",
      "Time step 6:\n",
      "Load on Bus 1 (MW): 1.0555555555555556\n",
      "Bus voltages (pu):\n",
      " 0    1.000000\n",
      "1    1.000000\n",
      "2    0.983657\n",
      "3    0.988233\n",
      "4    0.929008\n",
      "5    0.948241\n",
      "Name: vm_pu, dtype: float64\n",
      "Line loading (%):\n",
      " 0    173.706114\n",
      "1    127.637119\n",
      "Name: loading_percent, dtype: float64\n",
      "\n",
      "----------------------------------------\n",
      "\n",
      "Time step 7:\n",
      "Load on Bus 1 (MW): 1.1666666666666665\n",
      "Bus voltages (pu):\n",
      " 0    1.000000\n",
      "1    1.000000\n",
      "2    0.983657\n",
      "3    0.988233\n",
      "4    0.929008\n",
      "5    0.948241\n",
      "Name: vm_pu, dtype: float64\n",
      "Line loading (%):\n",
      " 0    173.706114\n",
      "1    127.637119\n",
      "Name: loading_percent, dtype: float64\n",
      "\n",
      "----------------------------------------\n",
      "\n",
      "Time step 8:\n",
      "Load on Bus 1 (MW): 1.2777777777777777\n",
      "Bus voltages (pu):\n",
      " 0    1.000000\n",
      "1    1.000000\n",
      "2    0.983657\n",
      "3    0.988233\n",
      "4    0.929008\n",
      "5    0.948241\n",
      "Name: vm_pu, dtype: float64\n",
      "Line loading (%):\n",
      " 0    173.706114\n",
      "1    127.637119\n",
      "Name: loading_percent, dtype: float64\n",
      "\n",
      "----------------------------------------\n",
      "\n",
      "Time step 9:\n",
      "Load on Bus 1 (MW): 1.3888888888888888\n",
      "Bus voltages (pu):\n",
      " 0    1.000000\n",
      "1    1.000000\n",
      "2    0.983657\n",
      "3    0.988233\n",
      "4    0.929008\n",
      "5    0.948241\n",
      "Name: vm_pu, dtype: float64\n",
      "Line loading (%):\n",
      " 0    173.706114\n",
      "1    127.637119\n",
      "Name: loading_percent, dtype: float64\n",
      "\n",
      "----------------------------------------\n",
      "\n",
      "Time step 10:\n",
      "Load on Bus 1 (MW): 1.5\n",
      "Bus voltages (pu):\n",
      " 0    1.000000\n",
      "1    1.000000\n",
      "2    0.983657\n",
      "3    0.988233\n",
      "4    0.929008\n",
      "5    0.948241\n",
      "Name: vm_pu, dtype: float64\n",
      "Line loading (%):\n",
      " 0    173.706114\n",
      "1    127.637119\n",
      "Name: loading_percent, dtype: float64\n",
      "\n",
      "----------------------------------------\n",
      "\n"
     ]
    }
   ],
   "source": [
    "# Define a load profile for 'Load on Bus 1'\n",
    "time_steps = 10  # Example: 10 time steps\n",
    "load_profile_bus1 = np.linspace(0.5, 1.5, time_steps)  # Linearly increasing load (0.5 MW to 1.5 MW)\n",
    "\n",
    "# Run load flow for each time step and apply the load profile\n",
    "for t in range(time_steps):\n",
    "    # Update load on Bus 1 with the profile value for this time step\n",
    "    net.load.at[0, \"p_mw\"] = load_profile_bus1[t]  # Load on Bus 1\n",
    "\n",
    "    # Run load flow\n",
    "    pp.runpp(net,numba=False)\n",
    "    \n",
    "    # Print results for this time step\n",
    "    print(f\"Time step {t + 1}:\")\n",
    "    print(\"Load on Bus 1 (MW):\", load_profile_bus1[t])\n",
    "    print(\"Bus voltages (pu):\\n\", net.res_bus.vm_pu)\n",
    "    print(\"Line loading (%):\\n\", net.res_line.loading_percent)\n",
    "    print(\"\\n\" + \"-\"*40 + \"\\n\")\n"
   ]
  },
  {
   "cell_type": "code",
   "execution_count": 23,
   "id": "3268db5d-c433-4020-bd67-9cda3b8cc0da",
   "metadata": {},
   "outputs": [],
   "source": [
    "# Switch to change topology between Bus 5 and Bus 6\n",
    "switch = pp.create_switch(net, bus=bus5, element=bus6, et=\"b\", closed=True, name=\"Topology Switch\",numba=False)\n",
    "\n",
    "# Function to run load flow with switch open and closed\n",
    "def run_loadflow(switch_closed):\n",
    "    net.switch.loc[switch, 'closed'] = switch_closed\n",
    "    pp.runpp(net,numba=False)\n",
    "    status = \"closed\" if switch_closed else \"open\"\n",
    "    print(f\"\\n=== Load Flow Results with Switch {status} ===\")\n",
    "    print(\"Bus Voltages:\\n\", net.res_bus[[\"vm_pu\", \"va_degree\"]])\n",
    "    print(\"Transformer Loading:\\n\", net.res_trafo[[\"p_hv_mw\", \"q_hv_mvar\", \"p_lv_mw\", \"q_lv_mvar\"]])\n",
    "    print(\"Line Loadings:\\n\", net.res_line[[\"loading_percent\"]])\n",
    "    print(\"Load Power:\\n\", net.res_load[[\"p_mw\", \"q_mvar\"]])\n"
   ]
  },
  {
   "cell_type": "code",
   "execution_count": 24,
   "id": "1e373697-0a4e-48b7-8ab6-03ee28f11484",
   "metadata": {},
   "outputs": [
    {
     "name": "stdout",
     "output_type": "stream",
     "text": [
      "\n",
      "=== Load Flow Results with Switch closed ===\n",
      "Bus Voltages:\n",
      "       vm_pu  va_degree\n",
      "0  1.000000   0.000000\n",
      "1  1.000000   0.000000\n",
      "2  0.985993  -1.196596\n",
      "3  0.985993  -1.196596\n",
      "4  0.938770  -3.228111\n",
      "5  0.938770  -3.228111\n",
      "Transformer Loading:\n",
      "     p_hv_mw  q_hv_mvar   p_lv_mw  q_lv_mvar\n",
      "0  0.361729   0.208106 -0.360859  -0.196719\n",
      "1  0.361729   0.208106 -0.360859  -0.196719\n",
      "Line Loadings:\n",
      "    loading_percent\n",
      "0       150.412282\n",
      "1       150.412282\n",
      "Load Power:\n",
      "    p_mw  q_mvar\n",
      "0   1.5    0.40\n",
      "1   0.9    0.45\n",
      "2   0.4    0.20\n",
      "3   0.3    0.15\n",
      "\n",
      "=== Load Flow Results with Switch open ===\n",
      "Bus Voltages:\n",
      "       vm_pu  va_degree\n",
      "0  1.000000   0.000000\n",
      "1  1.000000   0.000000\n",
      "2  0.983657  -1.376851\n",
      "3  0.988233  -1.018991\n",
      "4  0.929008  -3.728719\n",
      "5  0.948241  -2.738888\n",
      "Transformer Loading:\n",
      "     p_hv_mw  q_hv_mvar   p_lv_mw  q_lv_mvar\n",
      "0  0.415643   0.243820 -0.414483  -0.228967\n",
      "1  0.308446   0.174119 -0.307820  -0.165640\n",
      "Line Loadings:\n",
      "    loading_percent\n",
      "0       173.706114\n",
      "1       127.637119\n",
      "Load Power:\n",
      "    p_mw  q_mvar\n",
      "0   1.5    0.40\n",
      "1   0.9    0.45\n",
      "2   0.4    0.20\n",
      "3   0.3    0.15\n"
     ]
    }
   ],
   "source": [
    "# Run load flows\n",
    "run_loadflow(switch_closed=True)  # Switch closed\n",
    "run_loadflow(switch_closed=False) # Switch open"
   ]
  },
  {
   "cell_type": "code",
   "execution_count": null,
   "id": "893feda0-b83f-4d11-96e7-a3bd5427f501",
   "metadata": {},
   "outputs": [],
   "source": []
  },
  {
   "cell_type": "code",
   "execution_count": null,
   "id": "8295deeb-8f5f-4690-b359-f2586c57d59b",
   "metadata": {},
   "outputs": [],
   "source": []
  }
 ],
 "metadata": {
  "kernelspec": {
   "display_name": "Python 3 (ipykernel)",
   "language": "python",
   "name": "python3"
  },
  "language_info": {
   "codemirror_mode": {
    "name": "ipython",
    "version": 3
   },
   "file_extension": ".py",
   "mimetype": "text/x-python",
   "name": "python",
   "nbconvert_exporter": "python",
   "pygments_lexer": "ipython3",
   "version": "3.12.6"
  }
 },
 "nbformat": 4,
 "nbformat_minor": 5
}
