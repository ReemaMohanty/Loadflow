{
 "cells": [
  {
   "cell_type": "code",
   "execution_count": null,
   "id": "c53681a4-1844-4ca0-b63a-bbd392af6b5f",
   "metadata": {},
   "outputs": [],
   "source": [
    "#Import findings in tabular format\n",
    "#Answer to question c of defined task"
   ]
  },
  {
   "cell_type": "code",
   "execution_count": null,
   "id": "3fa2ee70-9443-47ef-a1c6-7e2926f8afb4",
   "metadata": {},
   "outputs": [],
   "source": [
    "import pandas as pd\n",
    "import pandapower as pp"
   ]
  },
  {
   "cell_type": "code",
   "execution_count": null,
   "id": "1011f86f-1db3-4730-8d7c-8d5bd4e22cf6",
   "metadata": {},
   "outputs": [],
   "source": [
    "# Initialize network\n",
    "net = pp.create_empty_network()"
   ]
  },
  {
   "cell_type": "code",
   "execution_count": null,
   "id": "e28bff11-f10c-4632-9143-c0e25142e55b",
   "metadata": {},
   "outputs": [],
   "source": [
    "# Create high voltage buses (11 kV)\n",
    "bus1 = pp.create_bus(net, vn_kv=11, name=\"Bus 1\")\n",
    "bus2 = pp.create_bus(net, vn_kv=11, name=\"Bus 2\")"
   ]
  },
  {
   "cell_type": "code",
   "execution_count": null,
   "id": "9dad460c-a4cb-46b8-a448-875c83284ed7",
   "metadata": {},
   "outputs": [],
   "source": [
    "# Create medium voltage buses (0.4 kV)\n",
    "bus3 = pp.create_bus(net, vn_kv=0.4, name=\"Bus 3\")\n",
    "bus4 = pp.create_bus(net, vn_kv=0.4, name=\"Bus 4\")"
   ]
  },
  {
   "cell_type": "code",
   "execution_count": null,
   "id": "608881c3-8e91-4c0d-935e-d889e14de54f",
   "metadata": {},
   "outputs": [],
   "source": [
    "# Low voltage buses connected to loads\n",
    "bus5 = pp.create_bus(net, vn_kv=0.4, name=\"Bus 5\")\n",
    "bus6 = pp.create_bus(net, vn_kv=0.4, name=\"Bus 6\")"
   ]
  },
  {
   "cell_type": "code",
   "execution_count": null,
   "id": "7635e853-3a8d-421e-8cce-64a3a0aa4f06",
   "metadata": {},
   "outputs": [],
   "source": [
    "# External grid connections\n",
    "pp.create_ext_grid(net, bus=bus1, vm_pu=1.0, name=\"Grid Connection 1\")\n",
    "pp.create_ext_grid(net, bus=bus2, vm_pu=1.0, name=\"Grid Connection 2\")"
   ]
  },
  {
   "cell_type": "code",
   "execution_count": null,
   "id": "e7920b56-746c-45a9-abe3-ad9251131ed8",
   "metadata": {},
   "outputs": [],
   "source": [
    "# Transformers with 11 kV to 0.4 kV ratio\n",
    "pp.create_transformer_from_parameters(\n",
    "    net, hv_bus=bus1, lv_bus=bus3, sn_mva=1, vn_hv_kv=11, vn_lv_kv=0.4, \n",
    "    vk_percent=6, vkr_percent=0.5, pfe_kw=0, i0_percent=0.1, name=\"Transformer 1\"\n",
    ")\n",
    "pp.create_transformer_from_parameters(\n",
    "    net, hv_bus=bus2, lv_bus=bus4, sn_mva=1, vn_hv_kv=11, vn_lv_kv=0.4, \n",
    "    vk_percent=6, vkr_percent=0.5, pfe_kw=0, i0_percent=0.1, name=\"Transformer 2\"\n",
    ")\n"
   ]
  },
  {
   "cell_type": "code",
   "execution_count": null,
   "id": "1739cfed-18d9-4042-b503-d02e2c3c8bc9",
   "metadata": {},
   "outputs": [],
   "source": [
    "# High-voltage loads (connected to Bus 1 and Bus 2)\n",
    "pp.create_load(net, bus=bus1, p_mw=0.8, q_mvar=0.4, name=\"HV Load 1\")\n",
    "pp.create_load(net, bus=bus2, p_mw=0.9, q_mvar=0.45, name=\"HV Load 2\")\n",
    "\n",
    "# Low-voltage loads (connected to Bus 5 and Bus 6)\n",
    "pp.create_load(net, bus=bus5, p_mw=0.4, q_mvar=0.2, name=\"LV Load 3\")\n",
    "pp.create_load(net, bus=bus6, p_mw=0.3, q_mvar=0.15, name=\"LV Load 4\")\n",
    "\n",
    "# Lines between transformers and load buses\n",
    "pp.create_line_from_parameters(\n",
    "    net, from_bus=bus3, to_bus=bus5, length_km=0.1, r_ohm_per_km=0.1, \n",
    "    x_ohm_per_km=0.2, c_nf_per_km=0, max_i_ka=0.4, name=\"Line 1\"\n",
    ")\n",
    "pp.create_line_from_parameters(\n",
    "    net, from_bus=bus4, to_bus=bus6, length_km=0.1, r_ohm_per_km=0.1, \n",
    "    x_ohm_per_km=0.2, c_nf_per_km=0, max_i_ka=0.4, name=\"Line 2\"\n",
    ")\n"
   ]
  },
  {
   "cell_type": "code",
   "execution_count": null,
   "id": "96a813ce-0b02-4b61-84b1-cbfe2b7ba4da",
   "metadata": {},
   "outputs": [],
   "source": [
    "# Switch to change topology between Bus 5 and Bus 6\n",
    "switch = pp.create_switch(net, bus=bus5, element=bus6, et=\"b\", closed=True, name=\"Topology Switch\", numba=False)\n",
    "\n"
   ]
  },
  {
   "cell_type": "code",
   "execution_count": null,
   "id": "79f9959e-250a-49f3-9d90-35777ca500be",
   "metadata": {},
   "outputs": [],
   "source": [
    "# Function to run load flow with switch open and closed, and export results\n",
    "def run_loadflow_export(switch_closed):\n",
    "    # Set the switch status and run the power flow\n",
    "    net.switch.loc[switch, 'closed'] = switch_closed\n",
    "    pp.runpp(net, numba=False)\n",
    "    \n",
    "    # Export bus voltages\n",
    "    bus_voltages = net.res_bus[[\"vm_pu\", \"va_degree\"]]\n",
    "    bus_voltages.to_csv(f\"bus_voltages_switch_{'closed' if switch_closed else 'open'}.csv\")\n",
    "    \n",
    "    # Export transformer powers\n",
    "    transformer_powers = net.res_trafo[[\"p_hv_mw\", \"q_hv_mvar\", \"p_lv_mw\", \"q_lv_mvar\"]]\n",
    "    transformer_powers.to_csv(f\"transformer_powers_switch_{'closed' if switch_closed else 'open'}.csv\")\n",
    "    \n",
    "    # Export line loadings (current as a percentage of max capacity)\n",
    "    line_currents = net.res_line[[\"loading_percent\"]]\n",
    "    line_currents.to_csv(f\"line_currents_switch_{'closed' if switch_closed else 'open'}.csv\")\n",
    "    \n",
    "    print(f\"Results exported for switch {'closed' if switch_closed else 'open'}\")\n",
    "\n"
   ]
  },
  {
   "cell_type": "code",
   "execution_count": null,
   "id": "ad39d890-914e-459c-84ca-2c3968084b4b",
   "metadata": {},
   "outputs": [],
   "source": [
    "# Run load flows and export results\n",
    "run_loadflow_export(switch_closed=True)  # Switch closed\n",
    "run_loadflow_export(switch_closed=False) # Switch open\n"
   ]
  }
 ],
 "metadata": {
  "kernelspec": {
   "display_name": "Python 3 (ipykernel)",
   "language": "python",
   "name": "python3"
  },
  "language_info": {
   "codemirror_mode": {
    "name": "ipython",
    "version": 3
   },
   "file_extension": ".py",
   "mimetype": "text/x-python",
   "name": "python",
   "nbconvert_exporter": "python",
   "pygments_lexer": "ipython3",
   "version": "3.12.6"
  }
 },
 "nbformat": 4,
 "nbformat_minor": 5
}
