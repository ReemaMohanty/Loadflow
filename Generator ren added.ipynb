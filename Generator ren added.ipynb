{
 "cells": [
  {
   "cell_type": "code",
   "execution_count": null,
   "id": "c8ea87fc-5233-41c8-9152-62c70a030105",
   "metadata": {},
   "outputs": [],
   "source": [
    "#Here’s an example of addition of renewable generator to Bus 5:\n"
   ]
  },
  {
   "cell_type": "code",
   "execution_count": null,
   "id": "057077d3-dc97-4648-9bca-8c5d0aab671b",
   "metadata": {},
   "outputs": [],
   "source": [
    "import pandas as pd\n",
    "import pandapower as pp\n",
    "import numpy as np\n",
    "\n",
    "# Initialize network\n",
    "net = pp.create_empty_network()"
   ]
  },
  {
   "cell_type": "code",
   "execution_count": null,
   "id": "95e874af-d7fe-4339-b86f-f5324837404c",
   "metadata": {},
   "outputs": [],
   "source": [
    "# Create high voltage buses (11 kV)\n",
    "bus1 = pp.create_bus(net, vn_kv=11, name=\"Bus 1\")\n",
    "bus2 = pp.create_bus(net, vn_kv=11, name=\"Bus 2\")"
   ]
  },
  {
   "cell_type": "code",
   "execution_count": null,
   "id": "607e01af-490a-415c-830e-72eb596dcbd3",
   "metadata": {},
   "outputs": [],
   "source": [
    "# Create medium voltage buses (0.4 kV)\n",
    "bus3 = pp.create_bus(net, vn_kv=0.4, name=\"Bus 3\")\n",
    "bus4 = pp.create_bus(net, vn_kv=0.4, name=\"Bus 4\")"
   ]
  },
  {
   "cell_type": "code",
   "execution_count": null,
   "id": "ecb6a5c7-60d3-4d2a-bac7-d38e5c557efe",
   "metadata": {},
   "outputs": [],
   "source": [
    "# Low voltage buses connected to loads\n",
    "bus5 = pp.create_bus(net, vn_kv=0.4, name=\"Bus 5\")\n",
    "bus6 = pp.create_bus(net, vn_kv=0.4, name=\"Bus 6\")"
   ]
  },
  {
   "cell_type": "code",
   "execution_count": null,
   "id": "835c16fe-f093-40e8-9eb9-80b6e0a5ce0d",
   "metadata": {},
   "outputs": [],
   "source": [
    "# External grid connections\n",
    "pp.create_ext_grid(net, bus=bus1, vm_pu=1.0, name=\"Grid Connection 1\")\n",
    "pp.create_ext_grid(net, bus=bus2, vm_pu=1.0, name=\"Grid Connection 2\")"
   ]
  },
  {
   "cell_type": "code",
   "execution_count": null,
   "id": "55530a44-d72b-47bf-8418-53dd44139836",
   "metadata": {},
   "outputs": [],
   "source": [
    "# Transformers with 11 kV to 0.4 kV ratio\n",
    "pp.create_transformer_from_parameters(\n",
    "    net, hv_bus=bus1, lv_bus=bus3, sn_mva=1, vn_hv_kv=11, vn_lv_kv=0.4, \n",
    "    vk_percent=6, vkr_percent=0.5, pfe_kw=0, i0_percent=0.1, name=\"Transformer 1\"\n",
    ")\n",
    "pp.create_transformer_from_parameters(\n",
    "    net, hv_bus=bus2, lv_bus=bus4, sn_mva=1, vn_hv_kv=11, vn_lv_kv=0.4, \n",
    "    vk_percent=6, vkr_percent=0.5, pfe_kw=0, i0_percent=0.1, name=\"Transformer 2\"\n",
    ")"
   ]
  },
  {
   "cell_type": "code",
   "execution_count": null,
   "id": "12336931-19ef-47a4-af44-18cbf9b479d7",
   "metadata": {},
   "outputs": [],
   "source": [
    "# High-voltage loads (connected to Bus 1 and Bus 2)\n",
    "pp.create_load(net, bus=bus1, p_mw=0.8, q_mvar=0.4, name=\"HV Load 1\")\n",
    "pp.create_load(net, bus=bus2, p_mw=0.9, q_mvar=0.45, name=\"HV Load 2\")"
   ]
  },
  {
   "cell_type": "code",
   "execution_count": null,
   "id": "9b1caee3-e1f9-47b7-8d72-7d56eb40de28",
   "metadata": {},
   "outputs": [],
   "source": [
    "# Low-voltage loads (connected to Bus 5 and Bus 6)\n",
    "pp.create_load(net, bus=bus5, p_mw=0.4, q_mvar=0.2, name=\"LV Load 3\")\n",
    "pp.create_load(net, bus=bus6, p_mw=0.3, q_mvar=0.15, name=\"LV Load 4\")"
   ]
  },
  {
   "cell_type": "code",
   "execution_count": null,
   "id": "3e92bf54-6239-488d-9390-85180a3ace13",
   "metadata": {},
   "outputs": [],
   "source": [
    "# Lines between transformers and load buses\n",
    "pp.create_line_from_parameters(\n",
    "    net, from_bus=bus3, to_bus=bus5, length_km=0.1, r_ohm_per_km=0.1, \n",
    "    x_ohm_per_km=0.2, c_nf_per_km=0, max_i_ka=0.4, name=\"Line 1\"\n",
    ")\n",
    "pp.create_line_from_parameters(\n",
    "    net, from_bus=bus4, to_bus=bus6, length_km=0.1, r_ohm_per_km=0.1, \n",
    "    x_ohm_per_km=0.2, c_nf_per_km=0, max_i_ka=0.4, name=\"Line 2\"\n",
    ")"
   ]
  },
  {
   "cell_type": "code",
   "execution_count": null,
   "id": "db7bae8a-1dfb-4b39-9c9a-fdcabde065b9",
   "metadata": {},
   "outputs": [],
   "source": [
    "# Add a solar PV generator to Bus 5\n",
    "solar_pv = pp.create_sgen(net, bus=bus5, p_mw=0.5, q_mvar=0.0, name=\"Solar PV on Bus 5\")"
   ]
  },
  {
   "cell_type": "code",
   "execution_count": null,
   "id": "05f960dd-7042-4008-abc4-2e9736cbe999",
   "metadata": {},
   "outputs": [],
   "source": [
    "# Define a load profile for 'Load on Bus 1'\n",
    "time_steps = 10  # Example: 10 time steps\n",
    "load_profile_bus1 = np.linspace(0.5, 1.5, time_steps)  # Linearly increasing load (0.5 MW to 1.5 MW)\n"
   ]
  },
  {
   "cell_type": "code",
   "execution_count": null,
   "id": "a7ab51dc-c6f2-46dc-8f3d-8aa6621df1a7",
   "metadata": {},
   "outputs": [],
   "source": [
    "# Define a generation profile for Solar PV (simulating a daytime output pattern)\n",
    "solar_profile = np.array([0.0, 0.2, 0.5, 0.7, 1.0, 0.8, 0.5, 0.3, 0.1, 0.0])  # Scaled to max generation"
   ]
  },
  {
   "cell_type": "code",
   "execution_count": null,
   "id": "98bcc5cf-9de0-479f-b8ae-6b915857b6cb",
   "metadata": {},
   "outputs": [],
   "source": [
    "# Run load flow for each time step and apply the load profile\n",
    "for t in range(time_steps):\n",
    "    # Update load on Bus 1 with the profile value for this time step\n",
    "    net.load.at[0, \"p_mw\"] = load_profile_bus1[t]  # Load on Bus 1\n",
    "\n",
    "    # Run load flow\n",
    "    pp.runpp(net,numba=False)\n",
    "    \n",
    "    # Print results for this time step\n",
    "    print(f\"Time step {t + 1}:\")\n",
    "    print(\"Load on Bus 1 (MW):\", load_profile_bus1[t])\n",
    "    print(\"Bus voltages (pu):\\n\", net.res_bus.vm_pu)\n",
    "    print(\"Solar PV Generation on Bus 5 (MW):\", solar_profile[t])\n",
    "    print(\"Line loading (%):\\n\", net.res_line.loading_percent)\n",
    "    print(\"\\n\" + \"-\"*40 + \"\\n\")"
   ]
  },
  {
   "cell_type": "code",
   "execution_count": null,
   "id": "9e0c8bb6-59fa-4719-b67a-da18dcfa513c",
   "metadata": {},
   "outputs": [],
   "source": [
    "# Switch to change topology between Bus 5 and Bus 6\n",
    "switch = pp.create_switch(net, bus=bus5, element=bus6, et=\"b\", closed=True, name=\"Topology Switch\",numba=False)\n",
    "\n",
    "# Function to run load flow with switch open and closed\n",
    "def run_loadflow(switch_closed):\n",
    "    net.switch.loc[switch, 'closed'] = switch_closed\n",
    "    pp.runpp(net,numba=False)\n",
    "    status = \"closed\" if switch_closed else \"open\"\n",
    "    print(f\"\\n=== Load Flow Results with Switch {status} ===\")\n",
    "    print(\"Bus Voltages:\\n\", net.res_bus[[\"vm_pu\", \"va_degree\"]])\n",
    "    print(\"Transformer Loading:\\n\", net.res_trafo[[\"p_hv_mw\", \"q_hv_mvar\", \"p_lv_mw\", \"q_lv_mvar\"]])\n",
    "    print(\"Line Loadings:\\n\", net.res_line[[\"loading_percent\"]])\n",
    "    print(\"Load Power:\\n\", net.res_load[[\"p_mw\", \"q_mvar\"]])\n"
   ]
  },
  {
   "cell_type": "code",
   "execution_count": null,
   "id": "c0e8d34a-07fb-48cc-aa10-d2f9851e071f",
   "metadata": {},
   "outputs": [],
   "source": [
    "# Run load flows\n",
    "run_loadflow(switch_closed=True)  # Switch closed\n",
    "run_loadflow(switch_closed=False) # Switch open"
   ]
  },
  {
   "cell_type": "code",
   "execution_count": null,
   "id": "1ca96f79-1eee-498f-850e-f208e29a121c",
   "metadata": {},
   "outputs": [],
   "source": []
  },
  {
   "cell_type": "code",
   "execution_count": null,
   "id": "99b8f9e2-1ce8-40aa-a561-f2851c8a28b2",
   "metadata": {},
   "outputs": [],
   "source": []
  }
 ],
 "metadata": {
  "kernelspec": {
   "display_name": "Python 3 (ipykernel)",
   "language": "python",
   "name": "python3"
  },
  "language_info": {
   "codemirror_mode": {
    "name": "ipython",
    "version": 3
   },
   "file_extension": ".py",
   "mimetype": "text/x-python",
   "name": "python",
   "nbconvert_exporter": "python",
   "pygments_lexer": "ipython3",
   "version": "3.12.6"
  }
 },
 "nbformat": 4,
 "nbformat_minor": 5
}
