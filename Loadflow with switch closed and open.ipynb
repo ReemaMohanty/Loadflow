{
 "cells": [
  {
   "cell_type": "code",
   "execution_count": null,
   "id": "90821c49-50fb-4723-8f84-e2ed1850428d",
   "metadata": {},
   "outputs": [],
   "source": [
    "import pandapower as pp\n",
    "import numpy as np\n",
    "\n",
    "# Initialize network\n",
    "net = pp.create_empty_network()"
   ]
  },
  {
   "cell_type": "code",
   "execution_count": 19,
   "id": "9ba0e288-5ccf-4a38-aa0b-747d455201ec",
   "metadata": {},
   "outputs": [],
   "source": [
    "# Create high voltage buses (11 kV)\n",
    "bus1 = pp.create_bus(net, vn_kv=11, name=\"Bus 1\")\n",
    "bus2 = pp.create_bus(net, vn_kv=11, name=\"Bus 2\")"
   ]
  },
  {
   "cell_type": "code",
   "execution_count": 20,
   "id": "274e7253-985d-414d-a30a-c0929c20ad9c",
   "metadata": {},
   "outputs": [],
   "source": [
    "# Create medium voltage buses (0.4 kV)\n",
    "bus3 = pp.create_bus(net, vn_kv=0.4, name=\"Bus 3\")\n",
    "bus4 = pp.create_bus(net, vn_kv=0.4, name=\"Bus 4\")"
   ]
  },
  {
   "cell_type": "code",
   "execution_count": 21,
   "id": "7a0df1ea-5969-4823-a4fe-d43ff9ddf606",
   "metadata": {},
   "outputs": [],
   "source": [
    "# Low voltage buses connected to loads\n",
    "bus5 = pp.create_bus(net, vn_kv=0.4, name=\"Bus 5\")\n",
    "bus6 = pp.create_bus(net, vn_kv=0.4, name=\"Bus 6\")"
   ]
  },
  {
   "cell_type": "code",
   "execution_count": 22,
   "id": "63815d71-d684-4b72-bdf0-db68d4982e7b",
   "metadata": {},
   "outputs": [
    {
     "data": {
      "text/plain": [
       "1"
      ]
     },
     "execution_count": 22,
     "metadata": {},
     "output_type": "execute_result"
    }
   ],
   "source": [
    "# External grid connections\n",
    "pp.create_ext_grid(net, bus=bus1, vm_pu=1.0, name=\"Grid Connection 1\")\n",
    "pp.create_ext_grid(net, bus=bus2, vm_pu=1.0, name=\"Grid Connection 2\")"
   ]
  },
  {
   "cell_type": "code",
   "execution_count": 23,
   "id": "7e9f7b87-18c3-45e8-8c35-3f0a4edfeda8",
   "metadata": {},
   "outputs": [
    {
     "data": {
      "text/plain": [
       "1"
      ]
     },
     "execution_count": 23,
     "metadata": {},
     "output_type": "execute_result"
    }
   ],
   "source": [
    "# Transformers with 11 kV to 0.4 kV ratio\n",
    "pp.create_transformer_from_parameters(\n",
    "    net, hv_bus=bus1, lv_bus=bus3, sn_mva=1, vn_hv_kv=11, vn_lv_kv=0.4, \n",
    "    vk_percent=6, vkr_percent=0.5, pfe_kw=0, i0_percent=0.1, name=\"Transformer 1\"\n",
    ")\n",
    "pp.create_transformer_from_parameters(\n",
    "    net, hv_bus=bus2, lv_bus=bus4, sn_mva=1, vn_hv_kv=11, vn_lv_kv=0.4, \n",
    "    vk_percent=6, vkr_percent=0.5, pfe_kw=0, i0_percent=0.1, name=\"Transformer 2\"\n",
    ")"
   ]
  },
  {
   "cell_type": "code",
   "execution_count": 24,
   "id": "add48d08-ec98-4cf8-848b-fb9d938a8bb9",
   "metadata": {},
   "outputs": [
    {
     "data": {
      "text/plain": [
       "1"
      ]
     },
     "execution_count": 24,
     "metadata": {},
     "output_type": "execute_result"
    }
   ],
   "source": [
    "# High-voltage loads (connected to Bus 1 and Bus 2)\n",
    "pp.create_load(net, bus=bus1, p_mw=0.8, q_mvar=0.4, name=\"HV Load 1\")\n",
    "pp.create_load(net, bus=bus2, p_mw=0.9, q_mvar=0.45, name=\"HV Load 2\")"
   ]
  },
  {
   "cell_type": "code",
   "execution_count": 25,
   "id": "83a504f3-780a-4fbf-97ce-4c3e3e564f11",
   "metadata": {},
   "outputs": [
    {
     "data": {
      "text/plain": [
       "3"
      ]
     },
     "execution_count": 25,
     "metadata": {},
     "output_type": "execute_result"
    }
   ],
   "source": [
    "# Low-voltage loads (connected to Bus 5 and Bus 6)\n",
    "pp.create_load(net, bus=bus5, p_mw=0.4, q_mvar=0.2, name=\"LV Load 3\")\n",
    "pp.create_load(net, bus=bus6, p_mw=0.3, q_mvar=0.15, name=\"LV Load 4\")"
   ]
  },
  {
   "cell_type": "code",
   "execution_count": 26,
   "id": "460349ec-a8a8-42d9-ab29-3e95035f5247",
   "metadata": {},
   "outputs": [
    {
     "data": {
      "text/plain": [
       "1"
      ]
     },
     "execution_count": 26,
     "metadata": {},
     "output_type": "execute_result"
    }
   ],
   "source": [
    "# Lines between transformers and load buses\n",
    "pp.create_line_from_parameters(\n",
    "    net, from_bus=bus3, to_bus=bus5, length_km=0.1, r_ohm_per_km=0.1, \n",
    "    x_ohm_per_km=0.2, c_nf_per_km=0, max_i_ka=0.4, name=\"Line 1\"\n",
    ")\n",
    "pp.create_line_from_parameters(\n",
    "    net, from_bus=bus4, to_bus=bus6, length_km=0.1, r_ohm_per_km=0.1, \n",
    "    x_ohm_per_km=0.2, c_nf_per_km=0, max_i_ka=0.4, name=\"Line 2\"\n",
    ")"
   ]
  },
  {
   "cell_type": "code",
   "execution_count": 28,
   "id": "d2077a70-f004-42e7-b77e-5a7af4dabbeb",
   "metadata": {},
   "outputs": [],
   "source": [
    "# Switch to change topology between Bus 3 and Bus 4\n",
    "switch = pp.create_switch(net, bus=bus3, element=bus4, et=\"b\", closed=True, name=\"Topology Switch\",numba=False)\n",
    "\n",
    "# Function to run load flow with switch open and closed\n",
    "def run_loadflow(switch_closed):\n",
    "    net.switch.loc[switch, 'closed'] = switch_closed\n",
    "    pp.runpp(net)\n",
    "    status = \"closed\" if switch_closed else \"open\"\n",
    "    print(f\"\\n=== Load Flow Results with Switch {status} ===\")\n",
    "    print(\"Bus Voltages:\\n\", net.res_bus[[\"vm_pu\", \"va_degree\"]])\n",
    "    print(\"Transformer Loading:\\n\", net.res_trafo[[\"p_hv_mw\", \"q_hv_mvar\", \"p_lv_mw\", \"q_lv_mvar\"]])\n",
    "    print(\"Line Loadings:\\n\", net.res_line[[\"loading_percent\"]])\n",
    "    print(\"Load Power:\\n\", net.res_load[[\"p_mw\", \"q_mvar\"]])\n"
   ]
  },
  {
   "cell_type": "code",
   "execution_count": null,
   "id": "4941b693-8b4e-4559-83dd-097eb6f173f5",
   "metadata": {},
   "outputs": [],
   "source": [
    "# Switch to change topology between Bus 5 and Bus 6\n",
    "switch = pp.create_switch(net, bus=bus5, element=bus6, et=\"b\", closed=True, name=\"Topology Switch\",numba=False)\n",
    "\n",
    "# Function to run load flow with switch open and closed\n",
    "def run_loadflow(switch_closed):\n",
    "    net.switch.loc[switch, 'closed'] = switch_closed\n",
    "    pp.runpp(net)\n",
    "    status = \"closed\" if switch_closed else \"open\"\n",
    "    print(f\"\\n=== Load Flow Results with Switch {status} ===\")\n",
    "    print(\"Bus Voltages:\\n\", net.res_bus[[\"vm_pu\", \"va_degree\"]])\n",
    "    print(\"Transformer Loading:\\n\", net.res_trafo[[\"p_hv_mw\", \"q_hv_mvar\", \"p_lv_mw\", \"q_lv_mvar\"]])\n",
    "    print(\"Line Loadings:\\n\", net.res_line[[\"loading_percent\"]])\n",
    "    print(\"Load Power:\\n\", net.res_load[[\"p_mw\", \"q_mvar\"]])\n"
   ]
  },
  {
   "cell_type": "code",
   "execution_count": 29,
   "id": "96dcb073-42ad-4f8b-b98e-ee99b6f94c57",
   "metadata": {},
   "outputs": [
    {
     "name": "stderr",
     "output_type": "stream",
     "text": [
      "numba cannot be imported and numba functions are disabled.\n",
      "Probably the execution is slow.\n",
      "Please install numba to gain a massive speedup.\n",
      "(or if you prefer slow execution, set the flag numba=False to avoid this warning!)\n",
      "numba cannot be imported and numba functions are disabled.\n",
      "Probably the execution is slow.\n",
      "Please install numba to gain a massive speedup.\n",
      "(or if you prefer slow execution, set the flag numba=False to avoid this warning!)\n"
     ]
    },
    {
     "name": "stdout",
     "output_type": "stream",
     "text": [
      "\n",
(#numba is disabled by setting numba=false in subsequent codes,and it doesn't make the execution slow)
      "=== Load Flow Results with Switch closed ===\n",
      "Bus Voltages:\n",
      "       vm_pu  va_degree\n",
      "0  1.000000   0.000000\n",
      "1  1.000000   0.000000\n",
      "2  0.985958  -1.197432\n",
      "3  0.985958  -1.197432\n",
      "4  0.931456  -3.537637\n",
      "5  0.945863  -2.925634\n",
      "Transformer Loading:\n",
      "     p_hv_mw  q_hv_mvar   p_lv_mw  q_lv_mvar\n",
      "0  0.362005    0.20868 -0.361133  -0.197267\n",
      "1  0.362005    0.20868 -0.361133  -0.197267\n",
      "Line Loadings:\n",
      "    loading_percent\n",
      "0       173.249516\n",
      "1       127.958004\n",
      "Load Power:\n",
      "    p_mw  q_mvar\n",
      "0   0.8    0.40\n",
      "1   0.9    0.45\n",
      "2   0.4    0.20\n",
      "3   0.3    0.15\n",
      "\n",
      "=== Load Flow Results with Switch open ===\n",
      "Bus Voltages:\n",
      "       vm_pu  va_degree\n",
      "0  1.000000   0.000000\n",
      "1  1.000000   0.000000\n",
      "2  0.983657  -1.376851\n",
      "3  0.988233  -1.018991\n",
      "4  0.929008  -3.728719\n",
      "5  0.948241  -2.738888\n",
      "Transformer Loading:\n",
      "     p_hv_mw  q_hv_mvar   p_lv_mw  q_lv_mvar\n",
      "0  0.415643   0.243820 -0.414483  -0.228967\n",
      "1  0.308446   0.174119 -0.307820  -0.165640\n",
      "Line Loadings:\n",
      "    loading_percent\n",
      "0       173.706114\n",
      "1       127.637119\n",
      "Load Power:\n",
      "    p_mw  q_mvar\n",
      "0   0.8    0.40\n",
      "1   0.9    0.45\n",
      "2   0.4    0.20\n",
      "3   0.3    0.15\n"
     ]
    }
   ],
   "source": [
    "# Run load flows\n",
    "run_loadflow(switch_closed=True)  # Switch closed\n",
    "run_loadflow(switch_closed=False) # Switch open"
   ]
  },
  {
   "cell_type": "code",
   "execution_count": null,
   "id": "d669d4f3-b0f4-42b6-bc3b-5a14faccbaa0",
   "metadata": {},
   "outputs": [],
   "source": []
  },
  {
   "cell_type": "code",
   "execution_count": null,
   "id": "598c9d8e-9bcd-4591-a407-8478c297cda0",
   "metadata": {},
   "outputs": [],
   "source": []
  }
 ],
 "metadata": {
  "kernelspec": {
   "display_name": "Python 3 (ipykernel)",
   "language": "python",
   "name": "python3"
  },
  "language_info": {
   "codemirror_mode": {
    "name": "ipython",
    "version": 3
   },
   "file_extension": ".py",
   "mimetype": "text/x-python",
   "name": "python",
   "nbconvert_exporter": "python",
   "pygments_lexer": "ipython3",
   "version": "3.12.6"
  }
 },
 "nbformat": 4,
 "nbformat_minor": 5
}
