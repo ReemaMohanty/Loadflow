{
 "cells": [
  {
   "cell_type": "code",
   "execution_count": null,
   "id": "dc8c01fe-fc33-4601-8d0b-ba1bb31c1f2a",
   "metadata": {},
   "outputs": [],
   "source": [
    "# Answers to the question :Assign x and y coordinates to the network elements \n",
    "# and present the results in singe line diagram format or geospatial format.\n",
    "import pandapower as pp\n",
    "import pandapower.plotting as plot\n",
    "import numpy as np\n",
    "import matplotlib.pyplot as plt\n",
    "\n"
   ]
  },
  {
   "cell_type": "code",
   "execution_count": null,
   "id": "b32a5491-2a54-4536-83c1-f885b84d937d",
   "metadata": {},
   "outputs": [],
   "source": [
    "# Initialize the network\n",
    "net = pp.create_empty_network()\n",
    "\n"
   ]
  },
  {
   "cell_type": "code",
   "execution_count": null,
   "id": "153faa03-3908-41a7-864b-d09d5fcf04ec",
   "metadata": {},
   "outputs": [],
   "source": [
    "# Create buses\n",
    "bus1 = pp.create_bus(net, vn_kv=11, name=\"Bus 1\")\n",
    "bus2 = pp.create_bus(net, vn_kv=11, name=\"Bus 2\")\n",
    "bus3 = pp.create_bus(net, vn_kv=0.4, name=\"Bus 3\")\n",
    "bus4 = pp.create_bus(net, vn_kv=0.4, name=\"Bus 4\")\n",
    "bus5 = pp.create_bus(net, vn_kv=0.4, name=\"Bus 5\")\n",
    "bus6 = pp.create_bus(net, vn_kv=0.4, name=\"Bus 6\")\n",
    "\n"
   ]
  },
  {
   "cell_type": "code",
   "execution_count": null,
   "id": "e7ce06c0-3e51-4b8c-a174-71f46186f961",
   "metadata": {},
   "outputs": [],
   "source": [
    "# Define and assign x, y coordinates to each bus\n",
    "coordinates = {\n",
    "    bus1: (0, 0),\n",
    "    bus2: (4, 0),\n",
    "    bus3: (0, -3),\n",
    "    bus4: (4, -3),\n",
    "    bus5: (-1, -5),\n",
    "    bus6: (5, -5)\n",
    "}\n",
    "\n"
   ]
  },
  {
   "cell_type": "code",
   "execution_count": null,
   "id": "9f171656-9d88-48a8-9499-e8c931804787",
   "metadata": {},
   "outputs": [],
   "source": [
    "# Apply coordinates to each bus in the network\n",
    "for bus, (x, y) in coordinates.items():\n",
    "    net.bus.loc[bus, 'x'] = x\n",
    "    net.bus.loc[bus, 'y'] = y\n",
    "\n"
   ]
  },
  {
   "cell_type": "code",
   "execution_count": null,
   "id": "453ccfc2-bc48-49c6-a34d-20ca12b26bde",
   "metadata": {},
   "outputs": [],
   "source": [
    "# Print bus coordinates to verify\n",
    "print(\"Bus coordinates:\")\n",
    "print(net.bus[['x', 'y']])\n",
    "\n"
   ]
  },
  {
   "cell_type": "code",
   "execution_count": null,
   "id": "7c573e26-918d-45d7-92d8-b56884277db7",
   "metadata": {},
   "outputs": [],
   "source": [
    "# Define other elements (external grids, transformers, lines, loads, etc.)\n",
    "pp.create_ext_grid(net, bus=bus1, vm_pu=1.0, name=\"Grid Connection 1\")\n",
    "pp.create_ext_grid(net, bus=bus2, vm_pu=1.0, name=\"Grid Connection 2\")\n",
    "pp.create_transformer_from_parameters(\n",
    "    net, hv_bus=bus1, lv_bus=bus3, sn_mva=1, vn_hv_kv=11, vn_lv_kv=0.4,\n",
    "    vk_percent=6, vkr_percent=0.5, pfe_kw=0, i0_percent=0.1, name=\"Transformer 1\"\n",
    ")\n",
    "pp.create_transformer_from_parameters(\n",
    "    net, hv_bus=bus2, lv_bus=bus4, sn_mva=1, vn_hv_kv=11, vn_lv_kv=0.4,\n",
    "    vk_percent=6, vkr_percent=0.5, pfe_kw=0, i0_percent=0.1, name=\"Transformer 2\"\n",
    ")\n",
    "pp.create_load(net, bus=bus1, p_mw=0.8, q_mvar=0.4, name=\"HV Load 1\")\n",
    "pp.create_load(net, bus=bus2, p_mw=0.9, q_mvar=0.45, name=\"HV Load 2\")\n",
    "pp.create_load(net, bus=bus5, p_mw=0.4, q_mvar=0.2, name=\"LV Load 3\")\n",
    "pp.create_load(net, bus=bus6, p_mw=0.3, q_mvar=0.15, name=\"LV Load 4\")\n",
    "pp.create_line_from_parameters(\n",
    "    net, from_bus=bus3, to_bus=bus5, length_km=0.1, r_ohm_per_km=0.1,\n",
    "    x_ohm_per_km=0.2, c_nf_per_km=0, max_i_ka=0.4, name=\"Line 1\"\n",
    ")\n",
    "pp.create_line_from_parameters(\n",
    "    net, from_bus=bus4, to_bus=bus6, length_km=0.1, r_ohm_per_km=0.1,\n",
    "    x_ohm_per_km=0.2, c_nf_per_km=0, max_i_ka=0.4, name=\"Line 2\"\n",
    ")\n",
    "pp.create_sgen(net, bus=bus5, p_mw=0.5, q_mvar=0.0, name=\"Solar PV on Bus 5\")\n"
   ]
  },
  {
   "cell_type": "code",
   "execution_count": null,
   "id": "a204c413-9ed7-433b-97fa-18f4ec5e4533",
   "metadata": {},
   "outputs": [],
   "source": [
    "# Check if coordinates are missing and use create_generic_coordinates as a fallback\n",
    "if net.bus[['x', 'y']].isnull().any().any():\n",
    "    print(\"Warning: Some buses are missing coordinates. Generating artificial coordinates.\")\n",
    "    plot.create_generic_coordinates(net)\n",
    "else:\n",
    "    print(\"All buses have valid coordinates.\")\n",
    "\n",
    "# Plot the network explicitly with coordinates\n",
    "try:\n",
    "    plot.simple_plot(net, show_plot=True)\n",
    "except Exception as e:\n",
    "    print(\"An error occurred while plotting:\", e)"
   ]
  }
 ],
 "metadata": {
  "kernelspec": {
   "display_name": "Python 3 (ipykernel)",
   "language": "python",
   "name": "python3"
  },
  "language_info": {
   "codemirror_mode": {
    "name": "ipython",
    "version": 3
   },
   "file_extension": ".py",
   "mimetype": "text/x-python",
   "name": "python",
   "nbconvert_exporter": "python",
   "pygments_lexer": "ipython3",
   "version": "3.12.6"
  }
 },
 "nbformat": 4,
 "nbformat_minor": 5
}
